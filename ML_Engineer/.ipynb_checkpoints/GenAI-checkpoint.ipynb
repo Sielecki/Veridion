{
 "cells": [
  {
   "cell_type": "code",
   "execution_count": null,
   "metadata": {},
   "outputs": [
    {
     "data": {
      "application/vnd.jupyter.widget-view+json": {
       "model_id": "35f89bfbba0c4299807629195d9dcefd",
       "version_major": 2,
       "version_minor": 0
      },
      "text/plain": [
       "Fetching 174 files:   0%|          | 0/174 [00:00<?, ?it/s]"
      ]
     },
     "metadata": {},
     "output_type": "display_data"
    },
    {
     "data": {
      "application/vnd.jupyter.widget-view+json": {
       "model_id": "e720318f708844af9030dd939b5e3653",
       "version_major": 2,
       "version_minor": 0
      },
      "text/plain": [
       "model-00004-of-000163.safetensors:  59%|#####9    | 2.55G/4.30G [00:00<?, ?B/s]"
      ]
     },
     "metadata": {},
     "output_type": "display_data"
    },
    {
     "data": {
      "application/vnd.jupyter.widget-view+json": {
       "model_id": "6e9f6d7e19484ee7aefed1b33039efba",
       "version_major": 2,
       "version_minor": 0
      },
      "text/plain": [
       "model-00013-of-000163.safetensors:  14%|#4        | 619M/4.30G [00:00<?, ?B/s]"
      ]
     },
     "metadata": {},
     "output_type": "display_data"
    },
    {
     "data": {
      "application/vnd.jupyter.widget-view+json": {
       "model_id": "96ec781e4d0a42a9bcf003145df51fa3",
       "version_major": 2,
       "version_minor": 0
      },
      "text/plain": [
       "model-00001-of-000163.safetensors:  74%|#######4  | 3.88G/5.23G [00:00<?, ?B/s]"
      ]
     },
     "metadata": {},
     "output_type": "display_data"
    },
    {
     "data": {
      "application/vnd.jupyter.widget-view+json": {
       "model_id": "bdef277c22b44b909927f2cbd4f99842",
       "version_major": 2,
       "version_minor": 0
      },
      "text/plain": [
       "model-00012-of-000163.safetensors:  13%|#3        | 178M/1.32G [00:00<?, ?B/s]"
      ]
     },
     "metadata": {},
     "output_type": "display_data"
    },
    {
     "data": {
      "application/vnd.jupyter.widget-view+json": {
       "model_id": "7d82cfb8b6a64b05ac0861cc4884037e",
       "version_major": 2,
       "version_minor": 0
      },
      "text/plain": [
       "model-00011-of-000163.safetensors:  35%|###4      | 1.49G/4.30G [00:00<?, ?B/s]"
      ]
     },
     "metadata": {},
     "output_type": "display_data"
    },
    {
     "data": {
      "application/vnd.jupyter.widget-view+json": {
       "model_id": "37417cfa12bd4c93ab4988f6e923cb1c",
       "version_major": 2,
       "version_minor": 0
      },
      "text/plain": [
       "model-00009-of-000163.safetensors:  22%|##1       | 944M/4.30G [00:00<?, ?B/s]"
      ]
     },
     "metadata": {},
     "output_type": "display_data"
    },
    {
     "data": {
      "application/vnd.jupyter.widget-view+json": {
       "model_id": "889ad31637fd4cc18ac4e63c2454f3a5",
       "version_major": 2,
       "version_minor": 0
      },
      "text/plain": [
       "model-00008-of-000163.safetensors:  45%|####5     | 1.95G/4.30G [00:00<?, ?B/s]"
      ]
     },
     "metadata": {},
     "output_type": "display_data"
    },
    {
     "data": {
      "application/vnd.jupyter.widget-view+json": {
       "model_id": "4025061f1cab444d9d184944081a5ea9",
       "version_major": 2,
       "version_minor": 0
      },
      "text/plain": [
       "model-00010-of-000163.safetensors:  15%|#4        | 640M/4.30G [00:00<?, ?B/s]"
      ]
     },
     "metadata": {},
     "output_type": "display_data"
    },
    {
     "data": {
      "application/vnd.jupyter.widget-view+json": {
       "model_id": "a7552b5f9416493baaffd16df3cd0a9f",
       "version_major": 2,
       "version_minor": 0
      },
      "text/plain": [
       "model-00014-of-000163.safetensors:   0%|          | 0.00/4.30G [00:00<?, ?B/s]"
      ]
     },
     "metadata": {},
     "output_type": "display_data"
    },
    {
     "data": {
      "application/vnd.jupyter.widget-view+json": {
       "model_id": "b34f721387a1476489294eceac4041e5",
       "version_major": 2,
       "version_minor": 0
      },
      "text/plain": [
       "model-00015-of-000163.safetensors:   0%|          | 0.00/4.30G [00:00<?, ?B/s]"
      ]
     },
     "metadata": {},
     "output_type": "display_data"
    },
    {
     "data": {
      "application/vnd.jupyter.widget-view+json": {
       "model_id": "644ceb4c1ee04e089fdba8016c71f17d",
       "version_major": 2,
       "version_minor": 0
      },
      "text/plain": [
       "model-00016-of-000163.safetensors:   0%|          | 0.00/4.30G [00:00<?, ?B/s]"
      ]
     },
     "metadata": {},
     "output_type": "display_data"
    },
    {
     "data": {
      "application/vnd.jupyter.widget-view+json": {
       "model_id": "156b4f85a8fa45f0a708df009e5fe213",
       "version_major": 2,
       "version_minor": 0
      },
      "text/plain": [
       "model-00017-of-000163.safetensors:   0%|          | 0.00/4.30G [00:00<?, ?B/s]"
      ]
     },
     "metadata": {},
     "output_type": "display_data"
    },
    {
     "data": {
      "application/vnd.jupyter.widget-view+json": {
       "model_id": "33a46d05e5ad4a37aab637670b9c973e",
       "version_major": 2,
       "version_minor": 0
      },
      "text/plain": [
       "model-00018-of-000163.safetensors:   0%|          | 0.00/4.30G [00:00<?, ?B/s]"
      ]
     },
     "metadata": {},
     "output_type": "display_data"
    },
    {
     "data": {
      "application/vnd.jupyter.widget-view+json": {
       "model_id": "7b735e1fbf84485d894ff1806db83d14",
       "version_major": 2,
       "version_minor": 0
      },
      "text/plain": [
       "model-00019-of-000163.safetensors:   0%|          | 0.00/4.30G [00:00<?, ?B/s]"
      ]
     },
     "metadata": {},
     "output_type": "display_data"
    },
    {
     "data": {
      "application/vnd.jupyter.widget-view+json": {
       "model_id": "d1051d536ddb48cea99952c795d343b0",
       "version_major": 2,
       "version_minor": 0
      },
      "text/plain": [
       "model-00020-of-000163.safetensors:   0%|          | 0.00/4.30G [00:00<?, ?B/s]"
      ]
     },
     "metadata": {},
     "output_type": "display_data"
    },
    {
     "data": {
      "application/vnd.jupyter.widget-view+json": {
       "model_id": "179db224167c48be818236677ca8f6f1",
       "version_major": 2,
       "version_minor": 0
      },
      "text/plain": [
       "model-00021-of-000163.safetensors:   0%|          | 0.00/4.30G [00:00<?, ?B/s]"
      ]
     },
     "metadata": {},
     "output_type": "display_data"
    },
    {
     "data": {
      "application/vnd.jupyter.widget-view+json": {
       "model_id": "09bf8baccb2d45a29786703f65d4689f",
       "version_major": 2,
       "version_minor": 0
      },
      "text/plain": [
       "model-00022-of-000163.safetensors:   0%|          | 0.00/4.30G [00:00<?, ?B/s]"
      ]
     },
     "metadata": {},
     "output_type": "display_data"
    },
    {
     "data": {
      "application/vnd.jupyter.widget-view+json": {
       "model_id": "fde399ce91f9441483e96a1440808a95",
       "version_major": 2,
       "version_minor": 0
      },
      "text/plain": [
       "model-00023-of-000163.safetensors:   0%|          | 0.00/4.30G [00:00<?, ?B/s]"
      ]
     },
     "metadata": {},
     "output_type": "display_data"
    },
    {
     "data": {
      "application/vnd.jupyter.widget-view+json": {
       "model_id": "d39958d40bdf44b7a33cc739befb19b1",
       "version_major": 2,
       "version_minor": 0
      },
      "text/plain": [
       "model-00024-of-000163.safetensors:   0%|          | 0.00/4.30G [00:00<?, ?B/s]"
      ]
     },
     "metadata": {},
     "output_type": "display_data"
    },
    {
     "data": {
      "application/vnd.jupyter.widget-view+json": {
       "model_id": "e5c11b27e9974eaba32837f7febf42a7",
       "version_major": 2,
       "version_minor": 0
      },
      "text/plain": [
       "model-00025-of-000163.safetensors:   0%|          | 0.00/4.30G [00:00<?, ?B/s]"
      ]
     },
     "metadata": {},
     "output_type": "display_data"
    },
    {
     "data": {
      "application/vnd.jupyter.widget-view+json": {
       "model_id": "9e35d7ae62f34512a1ee1fa29b4bc50a",
       "version_major": 2,
       "version_minor": 0
      },
      "text/plain": [
       "model-00026-of-000163.safetensors:   0%|          | 0.00/4.30G [00:00<?, ?B/s]"
      ]
     },
     "metadata": {},
     "output_type": "display_data"
    },
    {
     "data": {
      "application/vnd.jupyter.widget-view+json": {
       "model_id": "55648eb14deb4f0bad6d4a52f38bbe2e",
       "version_major": 2,
       "version_minor": 0
      },
      "text/plain": [
       "model-00027-of-000163.safetensors:   0%|          | 0.00/4.30G [00:00<?, ?B/s]"
      ]
     },
     "metadata": {},
     "output_type": "display_data"
    },
    {
     "data": {
      "application/vnd.jupyter.widget-view+json": {
       "model_id": "61084033a7c84bcd8f58e95a249e064e",
       "version_major": 2,
       "version_minor": 0
      },
      "text/plain": [
       "model-00028-of-000163.safetensors:   0%|          | 0.00/4.30G [00:00<?, ?B/s]"
      ]
     },
     "metadata": {},
     "output_type": "display_data"
    },
    {
     "data": {
      "application/vnd.jupyter.widget-view+json": {
       "model_id": "37821e8bd8594f3cb51d449ed96b4887",
       "version_major": 2,
       "version_minor": 0
      },
      "text/plain": [
       "model-00029-of-000163.safetensors:   0%|          | 0.00/4.30G [00:00<?, ?B/s]"
      ]
     },
     "metadata": {},
     "output_type": "display_data"
    },
    {
     "data": {
      "application/vnd.jupyter.widget-view+json": {
       "model_id": "2620e6ff4830402e849ae20da9959c0c",
       "version_major": 2,
       "version_minor": 0
      },
      "text/plain": [
       "model-00030-of-000163.safetensors:   0%|          | 0.00/4.30G [00:00<?, ?B/s]"
      ]
     },
     "metadata": {},
     "output_type": "display_data"
    },
    {
     "data": {
      "application/vnd.jupyter.widget-view+json": {
       "model_id": "cc94de02be6742d0af415eeeaf9096a4",
       "version_major": 2,
       "version_minor": 0
      },
      "text/plain": [
       "model-00031-of-000163.safetensors:   0%|          | 0.00/4.30G [00:00<?, ?B/s]"
      ]
     },
     "metadata": {},
     "output_type": "display_data"
    },
    {
     "data": {
      "application/vnd.jupyter.widget-view+json": {
       "model_id": "82447eeafef4469f98307a0c7617d432",
       "version_major": 2,
       "version_minor": 0
      },
      "text/plain": [
       "model-00032-of-000163.safetensors:   0%|          | 0.00/4.30G [00:00<?, ?B/s]"
      ]
     },
     "metadata": {},
     "output_type": "display_data"
    },
    {
     "data": {
      "application/vnd.jupyter.widget-view+json": {
       "model_id": "a680824938474468a2ab3e4c7e20e06b",
       "version_major": 2,
       "version_minor": 0
      },
      "text/plain": [
       "model-00033-of-000163.safetensors:   0%|          | 0.00/4.30G [00:00<?, ?B/s]"
      ]
     },
     "metadata": {},
     "output_type": "display_data"
    },
    {
     "data": {
      "application/vnd.jupyter.widget-view+json": {
       "model_id": "e5e6dcb6f9f84297beffd72a17a03e30",
       "version_major": 2,
       "version_minor": 0
      },
      "text/plain": [
       "model-00034-of-000163.safetensors:   0%|          | 0.00/1.75G [00:00<?, ?B/s]"
      ]
     },
     "metadata": {},
     "output_type": "display_data"
    },
    {
     "data": {
      "application/vnd.jupyter.widget-view+json": {
       "model_id": "3329d83b8a7a44eebbfdb992644ee447",
       "version_major": 2,
       "version_minor": 0
      },
      "text/plain": [
       "model-00035-of-000163.safetensors:   0%|          | 0.00/4.30G [00:00<?, ?B/s]"
      ]
     },
     "metadata": {},
     "output_type": "display_data"
    },
    {
     "data": {
      "application/vnd.jupyter.widget-view+json": {
       "model_id": "35ce81be6a144f74927a41b29e303faa",
       "version_major": 2,
       "version_minor": 0
      },
      "text/plain": [
       "model-00036-of-000163.safetensors:   0%|          | 0.00/4.30G [00:00<?, ?B/s]"
      ]
     },
     "metadata": {},
     "output_type": "display_data"
    },
    {
     "data": {
      "application/vnd.jupyter.widget-view+json": {
       "model_id": "570cb803c726495cb8b472db135d9513",
       "version_major": 2,
       "version_minor": 0
      },
      "text/plain": [
       "model-00038-of-000163.safetensors:   0%|          | 0.00/4.30G [00:00<?, ?B/s]"
      ]
     },
     "metadata": {},
     "output_type": "display_data"
    },
    {
     "data": {
      "application/vnd.jupyter.widget-view+json": {
       "model_id": "8e34b8a1ff1047fbb431b634c676d509",
       "version_major": 2,
       "version_minor": 0
      },
      "text/plain": [
       "model-00037-of-000163.safetensors:   0%|          | 0.00/4.30G [00:00<?, ?B/s]"
      ]
     },
     "metadata": {},
     "output_type": "display_data"
    },
    {
     "data": {
      "application/vnd.jupyter.widget-view+json": {
       "model_id": "8b1c767a0bb743b4ad91a3ec0122f791",
       "version_major": 2,
       "version_minor": 0
      },
      "text/plain": [
       "model-00039-of-000163.safetensors:   0%|          | 0.00/4.30G [00:00<?, ?B/s]"
      ]
     },
     "metadata": {},
     "output_type": "display_data"
    },
    {
     "data": {
      "application/vnd.jupyter.widget-view+json": {
       "model_id": "879e526ef6ae46b5b376303bf859d400",
       "version_major": 2,
       "version_minor": 0
      },
      "text/plain": [
       "model-00040-of-000163.safetensors:   0%|          | 0.00/4.30G [00:00<?, ?B/s]"
      ]
     },
     "metadata": {},
     "output_type": "display_data"
    },
    {
     "data": {
      "application/vnd.jupyter.widget-view+json": {
       "model_id": "de114bc739024b75acfcd3a903931c41",
       "version_major": 2,
       "version_minor": 0
      },
      "text/plain": [
       "model-00041-of-000163.safetensors:   0%|          | 0.00/4.30G [00:00<?, ?B/s]"
      ]
     },
     "metadata": {},
     "output_type": "display_data"
    }
   ],
   "source": [
    "from lmdeploy import pipeline, PytorchEngineConfig\n",
    "\n",
    "if __name__ == \"__main__\":\n",
    "    pipe = pipeline(\"deepseek-ai/DeepSeek-R1\", backend_config=PytorchEngineConfig(tp=8))\n",
    "    messages_list = [\n",
    "        [{\"role\": \"user\", \"content\": \"Who are you?\"}],\n",
    "        [{\"role\": \"user\", \"content\": \"Translate the following content into Chinese directly: DeepSeek-V3 adopts innovative architectures to guarantee economical training and efficient inference.\"}],\n",
    "        [{\"role\": \"user\", \"content\": \"Write a piece of quicksort code in C++.\"}],\n",
    "    ]\n",
    "    output = pipe(messages_list)\n",
    "    print(output)"
   ]
  }
 ],
 "metadata": {
  "kernelspec": {
   "display_name": ".venv",
   "language": "python",
   "name": "python3"
  },
  "language_info": {
   "codemirror_mode": {
    "name": "ipython",
    "version": 3
   },
   "file_extension": ".py",
   "mimetype": "text/x-python",
   "name": "python",
   "nbconvert_exporter": "python",
   "pygments_lexer": "ipython3",
   "version": "3.12.9"
  }
 },
 "nbformat": 4,
 "nbformat_minor": 2
}
